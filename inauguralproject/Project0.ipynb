{
 "cells": [
  {
   "cell_type": "markdown",
   "metadata": {},
   "source": [
    "# Inaugural Project"
   ]
  },
  {
   "cell_type": "markdown",
   "metadata": {},
   "source": [
    "In this project we want to solve the Labor Supply Problem given the following maximization problem of a consumer:\n",
    "\n",
    "$$c^*,l^* = \\arg \\max_{c,l} \\log(c)-v\\frac{l^{1+\\frac{1}{\\epsilon}}}{1+\\frac{1}{\\epsilon}}$$\n",
    "s.t. \n",
    "$$x = m+wl-[\\tau_0 wl+\\tau_1 \\max\\{wl-\\kappa,0\\}]$$\n",
    "$$ c \\in [0,x]$$\n",
    "$$ l \\in [0,1],$$\n",
    "\n",
    "where $c$ is consumption, $l$ is labor supply, $m$ is cash-on-hand, $w$ is the wage rate, $\\tau_0$ is the standard labor income tax, $\\tau_1$ is the top bracket labor income tax, $\\kappa$ is the cut-off for the top labor income bracket, $x$ is total resources, $v$ scales the disutility of labor, and $\\epsilon$ is the Frisch elasticity of labor supply. Furthermore we note that utility is monotonically increasing in consumption, which imlplies that $c^* = x$."
   ]
  },
  {
   "cell_type": "markdown",
   "metadata": {},
   "source": [
    "Import and set magics:"
   ]
  },
  {
   "cell_type": "code",
   "execution_count": 82,
   "metadata": {},
   "outputs": [],
   "source": [
    "import numpy as np\n",
    "from scipy import optimize\n",
    "import matplotlib.pyplot as plt\n",
    "import math"
   ]
  },
  {
   "cell_type": "markdown",
   "metadata": {},
   "source": [
    "## Question 1"
   ]
  },
  {
   "cell_type": "markdown",
   "metadata": {},
   "source": [
    "First of all we begin this project by importing the packages that we will use. The parameter values are then defined as given in the project describtion. We solve the maximization problem given the parameter values. The optimal level of consumption and labor are c = 1.24 and l = 0.40 which gives us a utility of 0.17."
   ]
  },
  {
   "cell_type": "code",
   "execution_count": 83,
   "metadata": {},
   "outputs": [
    {
     "name": "stdout",
     "output_type": "stream",
     "text": [
      "c = 1.24\n",
      "l = 0.40\n",
      "u = 0.17\n"
     ]
    }
   ],
   "source": [
    "# First the initial variables that are subject to change are defined\n",
    "w = 1\n",
    "e = 0.3\n",
    "\n",
    "# The fixed parameter values are\n",
    "m = 1\n",
    "v = 10\n",
    "t0 = 0.4\n",
    "t1 = 0.1\n",
    "k = 0.4\n",
    "\n",
    "# Now we construct the functions\n",
    "def c_star(w,l,m,t0,t1,k):\n",
    "    return m+w*l-(t0*w*l+t1*max(w*l-k,0))\n",
    "\n",
    "def u_star(c,l,v,e):\n",
    "    return np.log(c)-v*l**(1+1/e)/(1+1/e)\n",
    "\n",
    "# Objective function\n",
    "def value_of_choice(l,v,e):\n",
    "    c = c_star(w,l,m,t0,t1,k)\n",
    "    return -u_star(c,l,v,e)\n",
    "\n",
    "# Call solver\n",
    "sol_case1 = optimize.minimize_scalar(\n",
    "    value_of_choice,method='bounded',\n",
    "    bounds=(0,1),args=(v,e))\n",
    "\n",
    "# Unpack solution\n",
    "l = sol_case1.x\n",
    "c = c_star(w,l,m,t0,t1,k)\n",
    "u = u_star(c,l,v,e)\n",
    "\n",
    "# Print solutions\n",
    "def print_solution(c,l,u):\n",
    "    print(f'c = {c:0.2f}')\n",
    "    print(f'l = {l:0.2f}')\n",
    "    print(f'u = {u:0.2f}')\n",
    "    \n",
    "print_solution(c,l,u)"
   ]
  },
  {
   "cell_type": "markdown",
   "metadata": {},
   "source": [
    "## Question 2"
   ]
  },
  {
   "cell_type": "markdown",
   "metadata": {},
   "source": [
    "I this question we want to show consumption and labor as functions of wage. Overall both consumption and labor are increasing in wages which is what we expected beforehand. "
   ]
  },
  {
   "cell_type": "code",
   "execution_count": 84,
   "metadata": {},
   "outputs": [
    {
     "data": {
      "image/png": "[encoded data removed]",
      "text/plain": [
       "<Figure size 720x288 with 2 Axes>"
      ]
     },
     "metadata": {},
     "output_type": "display_data"
    }
   ],
   "source": [
    "# Optimal choice as function of wage\n",
    "l_val = []\n",
    "c_val = []\n",
    "w_val = []\n",
    "\n",
    "for i in np.linspace(0.5,1.5,100):\n",
    "    w = i\n",
    "\n",
    "    sol_case1 = optimize.minimize_scalar(value_of_choice,\n",
    "    method='bounded',\n",
    "    bounds=(0,1),args=(v,e))\n",
    "    \n",
    "    w_val.append(i)\n",
    "    l_val.append(sol_case1.x)\n",
    "    c_val.append(c_star(sol_case1.x,i,m,t0,t1,k))\n",
    "\n",
    "\n",
    "c_val\n",
    "l_val\n",
    "w_val\n",
    "\n",
    "# Figure\n",
    "\n",
    "plt.style.use(\"seaborn\")\n",
    "\n",
    "# Creating the figure\n",
    "fig = plt.figure(figsize=(10,4))\n",
    "\n",
    "# The left plot\n",
    "ax_left = fig.add_subplot(1,2,1)\n",
    "\n",
    "ax_left.plot(w_val,l_val)\n",
    "\n",
    "ax_left.set_title('Optimal l given w')\n",
    "ax_left.set_xlabel('w')\n",
    "ax_left.set_ylabel('l')\n",
    "ax_left.grid(True)\n",
    "\n",
    "# The right plot\n",
    "ax_right = fig.add_subplot(1,2,2)\n",
    "\n",
    "ax_right.plot(w_val,c_val)\n",
    "\n",
    "ax_right.set_title('Optimal c given w')\n",
    "ax_right.set_xlabel('w')\n",
    "ax_right.set_ylabel('c')\n",
    "ax_right.grid(True)"
   ]
  },
  {
   "cell_type": "markdown",
   "metadata": {},
   "source": [
    "## Question 3"
   ]
  },
  {
   "cell_type": "markdown",
   "metadata": {},
   "source": [
    "Now we run the utility function for 10.000 individuals with a uniform wage distribution between 0.5 and 1.5, where the elasticity of labor supply is 0.3. This gives us a total tax revenue of 1629.3."
   ]
  },
  {
   "cell_type": "code",
   "execution_count": 90,
   "metadata": {},
   "outputs": [
    {
     "name": "stdout",
     "output_type": "stream",
     "text": [
      "The tax revenue with e = 0.3 is 1629.3305\n"
     ]
    }
   ],
   "source": [
    "# Drawing a random number\n",
    "np.random.seed(117)\n",
    "c_i = []\n",
    "l_i = []\n",
    "w_i = []\n",
    "\n",
    "# Drawing a random wage for each i in the population with 10.000 individuals\n",
    "for i in range(10000):\n",
    "    w = np.random.uniform(low=0.5,high=1.5)\n",
    "\n",
    "    sol_case1 = optimize.minimize_scalar(value_of_choice,\n",
    "    method='bounded',\n",
    "    bounds=(0,1),args=(v,e))\n",
    "\n",
    "    c_i.append(c_star(sol_case1.x,w,m,t0,t1,k))\n",
    "    l_i.append(sol_case1.x)\n",
    "    w_i.append(w)\n",
    "\n",
    "def tax_func(l,w,t0,t1,k):\n",
    "    return t0*w*l+t1*max(w*l-k,0)\n",
    "\n",
    "\n",
    "def tax_rev(l,w,t0,t1,k):\n",
    "    tax = 0\n",
    "    for i in range(10000):\n",
    "        tax += tax_func(l_i[i],w_i[i],t0,t1,k)\n",
    "    return tax\n",
    "\n",
    "print(f'The tax revenue with e = 0.3 is {tax_rev(l_i[i],w_i[i],t0,t1,k):.4f}') "
   ]
  },
  {
   "cell_type": "markdown",
   "metadata": {},
   "source": [
    "## Question 4"
   ]
  },
  {
   "cell_type": "markdown",
   "metadata": {},
   "source": [
    "We do the same as in Question 3 with a lower elasticity of labor supply being 0.1. This gives a higher tax revenue of 3195.2. "
   ]
  },
  {
   "cell_type": "code",
   "execution_count": 88,
   "metadata": {},
   "outputs": [
    {
     "name": "stdout",
     "output_type": "stream",
     "text": [
      "The tax revenue with e = 0.1 is 3195.2279\n"
     ]
    }
   ],
   "source": [
    "# Defining the new elasticity of labor supply\n",
    "e_new = 0.1\n",
    "\n",
    "sol_case2 = optimize.minimize_scalar(value_of_choice,\n",
    "    method='bounded',\n",
    "    bounds=(0,1),args=(v,e_new))\n",
    "\n",
    "# Drawing a random number\n",
    "np.random.seed(117)\n",
    "c_i_new = []\n",
    "l_i_new = []\n",
    "w_i_new = []\n",
    "\n",
    "# Drawing a random wage for each i in the population with 10.000 individuals\n",
    "for i in range(10000):\n",
    "    w = np.random.uniform(low=0.5,high=1.5)\n",
    "\n",
    "    sol_case2 = optimize.minimize_scalar(value_of_choice,\n",
    "    method='bounded',\n",
    "    bounds=(0,1),args=(v,e_new))\n",
    "\n",
    "    c_i_new.append(c_star(sol_case2.x,w,m,t0,t1,k))\n",
    "    l_i_new.append(sol_case2.x)\n",
    "    w_i_new.append(w)\n",
    "\n",
    "def tax_rev_new(l,w,t0,t1,k):\n",
    "    tax_new = 0\n",
    "    for i in range(10000):\n",
    "        tax_new += tax_func(l_i_new[i],w_i_new[i],t0,t1,k)\n",
    "    return tax_new\n",
    "\n",
    "print(f'The tax revenue with e = 0.1 is {tax_rev_new(l_i_new[i],w_i_new[i],t0,t1,k):.4f}') "
   ]
  },
  {
   "cell_type": "markdown",
   "metadata": {},
   "source": [
    "## Question 5"
   ]
  },
  {
   "cell_type": "markdown",
   "metadata": {},
   "source": [
    "To give a suggestion to the politician of how she maximizes the tax revenue, we maximize our tax revenue function from question 3 with respect to $\\tau_0$, $\\tau_1$ and $\\kappa$ through the following code:"
   ]
  },
  {
   "cell_type": "code",
   "execution_count": 91,
   "metadata": {},
   "outputs": [
    {
     "name": "stdout",
     "output_type": "stream",
     "text": [
      "We suggest tau_0 to be 0.9050 tau_1 to be 0.2353 and kappa to be 0.8946\n"
     ]
    }
   ],
   "source": [
    "def tax(x):\n",
    "    tau0 = x[0]\n",
    "    tau1 = x[1]\n",
    "    w = x[2]\n",
    "    l = x[3]\n",
    "    k = x[4]\n",
    "    \n",
    "    tax_rev = np.sum(tau0*w*l+tau1*max(l*w-k,0))\n",
    "    return tax_rev\n",
    "\n",
    "def con_func(x):\n",
    "    con = m*x[2]*x[3]-(x[0]*x[3]*x[2]+x[1]*max(x[2]*x[3]-x[4],0))\n",
    "    return con\n",
    "\n",
    "def opt_tax(x):\n",
    "    return -tax(x)\n",
    "\n",
    "x0 = [0.75,0.1,0.01,1,1] \n",
    "bounds = ((0,1),(0,1),(0,1),(0.5,1.5),(0,1))\n",
    "con_val = ({\"type\":\"ineq\",\"fun\":con_func})\n",
    "\n",
    "tax_rev_opt = optimize.minimize(opt_tax,x0,bounds=bounds,constraints=con_val,method='SLSQP')\n",
    "\n",
    "tau0_opt = tax_rev_opt.x[0]\n",
    "tau1_opt = tax_rev_opt.x[1]\n",
    "k_opt = tax_rev_opt.x[4]\n",
    "\n",
    "\n",
    "print(f'We suggest tau_0 to be {tau0_opt:.4f} tau_1 to be {tau1_opt:.4f} and kappa to be {k_opt:.4f}')"
   ]
  },
  {
   "cell_type": "code",
   "execution_count": 92,
   "metadata": {},
   "outputs": [
    {
     "name": "stdout",
     "output_type": "stream",
     "text": [
      "The maximum tax revenue is 3567.6785\n"
     ]
    }
   ],
   "source": [
    "print(f'The maximum tax revenue is {tax_rev(l_i[i],w_i[i],tau0_opt,tau1_opt,k_opt):.4f}')"
   ]
  },
  {
   "cell_type": "markdown",
   "metadata": {},
   "source": [
    "We see that the total tax revenue is now 3567.68 compared to 1629.33 in question 3. As we know from the Laffer curve the tax revenue will increase with a higher tax until a certain point where the tax revenue will fall again if the tax is raised further. However, we do think that an income tax of 90 pct. seems a bit too high for this answer to be realistic. "
   ]
  }
 ],
 "metadata": {
  "kernelspec": {
   "display_name": "Python 3",
   "language": "python",
   "name": "python3"
  },
  "language_info": {
   "codemirror_mode": {
    "name": "ipython",
    "version": 3
   },
   "file_extension": ".py",
   "mimetype": "text/x-python",
   "name": "python",
   "nbconvert_exporter": "python",
   "pygments_lexer": "ipython3",
   "version": "3.7.4"
  },
  "toc-autonumbering": true
 },
 "nbformat": 4,
 "nbformat_minor": 4
}
