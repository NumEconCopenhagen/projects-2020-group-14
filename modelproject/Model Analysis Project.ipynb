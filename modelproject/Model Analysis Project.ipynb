{
 "cells": [
  {
   "cell_type": "markdown",
   "metadata": {},
   "source": [
    "# Model Analysis Project"
   ]
  },
  {
   "cell_type": "markdown",
   "metadata": {},
   "source": [
    "Imports and set magics:"
   ]
  },
  {
   "cell_type": "code",
   "execution_count": 106,
   "metadata": {},
   "outputs": [],
   "source": [
    "import numpy as np\n",
    "from scipy import optimize\n",
    "import sympy as sm\n",
    "\n",
    "from IPython.display import display\n",
    "\n",
    "%matplotlib inline\n",
    "import matplotlib.pyplot as plt\n",
    "from matplotlib import cm\n",
    "plt.style.use('seaborn-whitegrid')\n",
    "plt.rcParams.update({'font.size': 12})"
   ]
  },
  {
   "cell_type": "markdown",
   "metadata": {},
   "source": [
    "# The Solow model"
   ]
  },
  {
   "cell_type": "markdown",
   "metadata": {},
   "source": [
    "We consider the Solow model with an adjustable supply of labor. The model consists of the following equations:\n",
    "\n",
    "* $Y_t = BK_t^{\\alpha}L_t^{1-\\alpha}$, $0<\\alpha<1$\n",
    "* $S_t = sY_t$, $0 < s < 1$\n",
    "* $K_{t+1}-K_t = S_t\\delta K_t$, $0<\\delta<1$\n",
    "\n",
    "where $K_t$ is capital today, $K_{t+1}$ is capital tomorrow, $S_t$ is savings and $Y_t$ is the output of the economy. \n",
    "\n",
    "We also have $L_t$ which is the supply of labor, and $N_t$ which is the size of the population today, which are defined by the following:\n",
    "\n",
    "* $L_t=\\lambda N_t$, $0<\\lambda<1$\n",
    "* $N_{t+1}=(1+n)N_t$\n",
    "\n",
    "where lambda is the share of the population in work. The population is growing with a contant rate of n in every period. \n",
    "\n",
    "We will through this project look at capital, labor and output pr. capita:\n",
    "\n",
    "$y_t = \\frac{Y_t}{N_t} = \\lambda^{(1-\\alpha)}Bk_t^{\\alpha}$ with $k_t = \\lambda{K_t}{N_t}$\n",
    "\n",
    "This will give us the following transformation equation of capital: \n",
    "\n",
    "$k_{t+1} = \\frac{1}{(1+n)}(sB\\lambda^{1-\\alpha}k_t^{\\alpha}+(1-\\delta)k_t)$\n"
   ]
  },
  {
   "cell_type": "markdown",
   "metadata": {},
   "source": [
    "# Solving the model"
   ]
  },
  {
   "cell_type": "markdown",
   "metadata": {},
   "source": [
    "The first step in solwing the model is to find steady state for capital. This means solwing for $k_t = k_{t+1} = k^{*}$\n",
    "\n",
    "First we define all of the necessary sumbols and equations of our model:"
   ]
  },
  {
   "cell_type": "code",
   "execution_count": 107,
   "metadata": {},
   "outputs": [],
   "source": [
    "k = sm.symbols('k')\n",
    "n = sm.symbols('n')\n",
    "s = sm.symbols('s')\n",
    "B = sm.symbols('B')\n",
    "lam = sm.symbols('lambda')\n",
    "delta = sm.symbols('delta')\n",
    "alpha = sm.symbols('alpha')\n",
    "\n",
    "steadystateK = sm.Eq(k,(s*B*lam**(1-alpha)*k**(alpha)+(1-delta)*k)/((1+n)))"
   ]
  },
  {
   "cell_type": "markdown",
   "metadata": {},
   "source": [
    "We solve this using sympy: "
   ]
  },
  {
   "cell_type": "code",
   "execution_count": 108,
   "metadata": {},
   "outputs": [
    {
     "data": {
      "text/latex": [
       "$\\displaystyle \\left(\\frac{B \\lambda^{1 - \\alpha} s}{\\delta + n}\\right)^{- \\frac{1}{\\alpha - 1}}$"
      ],
      "text/plain": [
       "(B*lambda**(1 - alpha)*s/(delta + n))**(-1/(alpha - 1))"
      ]
     },
     "execution_count": 108,
     "metadata": {},
     "output_type": "execute_result"
    }
   ],
   "source": [
    "steadystateKstar = sm.solve(steadystateK,k)[0]\n",
    "steadystateKstar"
   ]
  },
  {
   "cell_type": "markdown",
   "metadata": {},
   "source": [
    "We see that the level of capital in steady state is positively dependent of the savings $s$, $B$ and the share of the population that is working. The level of capital in steady state is negatively dependent of the growth in population as well as the rate of attrition of capital $\\delta$.\n",
    "\n",
    "We also want to find the steady state for the output of the economy $y^{*}$\n",
    "We know that $y_t = \\lambda^{(1-\\alpha)}Bk_t^{\\alpha}$\n",
    "To solve for $y^{*}$ we need to insert $k^{*}$ into the equation. "
   ]
  },
  {
   "cell_type": "code",
   "execution_count": 109,
   "metadata": {},
   "outputs": [
    {
     "data": {
      "text/latex": [
       "$\\displaystyle B \\lambda^{1 - \\alpha} \\left(\\left(\\frac{B \\lambda^{1 - \\alpha} s}{\\delta + n}\\right)^{- \\frac{1}{\\alpha - 1}}\\right)^{\\alpha}$"
      ],
      "text/plain": [
       "B*lambda**(1 - alpha)*((B*lambda**(1 - alpha)*s/(delta + n))**(-1/(alpha - 1)))**alpha"
      ]
     },
     "execution_count": 109,
     "metadata": {},
     "output_type": "execute_result"
    }
   ],
   "source": [
    "#saving the steady state for k\n",
    "ssk = sm.lambdify((B,lam,alpha,delta,n,s),steadystateKstar)\n",
    "\n",
    "y = sm.symbols('y')\n",
    "steadystateY = sm.Eq(y,lam**(1-alpha)*B*steadystateKstar**alpha)\n",
    "steadystateYstar = sm.solve(steadystateY,y)[0]\n",
    "steadystateYstar"
   ]
  },
  {
   "cell_type": "markdown",
   "metadata": {},
   "source": [
    "## How will the supply of labor affect the output of the economy? (Theoretically)"
   ]
  },
  {
   "cell_type": "markdown",
   "metadata": {},
   "source": [
    "To show how the supply of laber affects the output in steady state we need to take a look at lambda - the share of population in work. First we look at the elasticity of lambda. To do this we need to rewrite the steady state for $y^{*}$: \n",
    "\n",
    "$y^{*} = B\\lambda^{(1-\\alpha)}(\\frac{B\\lambda^{(1-\\alpha)}s}{(\\delta + n)})^{\\frac{\\alpha}{(1-\\alpha)}}$\n",
    "\n",
    "$y^{*} = \\frac{B\\lambda^{(1-\\alpha)}B^{\\frac{\\alpha}{(1-\\alpha)}}\\lambda^{\\alpha}s^{\\frac{\\alpha}{(1-\\alpha)}}}{(\\delta + n)^\\frac{\\alpha}{{(1-\\alpha)}}}$\n",
    "\n",
    "$y^{*} = \\frac{B^{\\frac{1}{(1-\\alpha)}}\\lambda s^{\\frac{\\alpha}{(1-\\alpha)}}}{(\\delta + n)^\\frac{\\alpha}{{(1-\\alpha)}}}$\n",
    "\n",
    "$y^{*} = B^{\\frac{1}{(1-\\alpha)}}\\lambda(\\frac{s}{(\\delta + n)})^{\\frac{\\alpha}{(1-\\alpha)}}$"
   ]
  },
  {
   "cell_type": "code",
   "execution_count": 110,
   "metadata": {},
   "outputs": [
    {
     "data": {
      "text/latex": [
       "$\\displaystyle y = B^{\\frac{1}{1 - \\alpha}} \\lambda \\left(\\frac{s}{\\delta + n}\\right)^{\\frac{\\alpha}{1 - \\alpha}}$"
      ],
      "text/plain": [
       "Eq(y, B**(1/(1 - alpha))*lambda*(s/(delta + n))**(alpha/(1 - alpha)))"
      ]
     },
     "execution_count": 110,
     "metadata": {},
     "output_type": "execute_result"
    }
   ],
   "source": [
    "ely = sm.Eq(y,B**(1/(1-alpha))*lam*(s/(delta+n))**(alpha/(1-alpha)))\n",
    "ely"
   ]
  },
  {
   "cell_type": "markdown",
   "metadata": {},
   "source": [
    "To find the elasticity of $y^{*}$ with respect to lambda we take the log on both sides: \n",
    "\n",
    "$ln(y^{*}) = \\frac{1}{1-\\alpha}ln(B) + ln(\\lambda) + \\frac{\\alpha}{1-\\alpha}(ln(s) - ln(n+\\delta)) $\n",
    "\n",
    "We see that the elasticity of $y^{*}$ with respect to lambda is 1. This means that an increase in $\\lambda$ with 1 pct. will result in an increase in $y^{*}$ with 1 pct. "
   ]
  },
  {
   "cell_type": "markdown",
   "metadata": {},
   "source": [
    "## How will the supply of labor affect the output of the economy? (Example)"
   ]
  },
  {
   "cell_type": "markdown",
   "metadata": {},
   "source": [
    "To give an example of what the outcome of the steady state could be, we have tried to insert plausible values of the parameters. To see the effect of an increase in lambda, we have calculated the steady state value of capital two times given a share of workers being 0.6 and 0.75 which leads to the following two results:"
   ]
  },
  {
   "cell_type": "code",
   "execution_count": 112,
   "metadata": {},
   "outputs": [
    {
     "name": "stdout",
     "output_type": "stream",
     "text": [
      "The first solution with lampda = 0.6 is: 0.259\n",
      "The second solution with lampda = 0.75 is: 0.324\n"
     ]
    }
   ],
   "source": [
    "print(f'The first solution with lampda = 0.6 is: {ssk(1,0.6,1/3,0.1,0.25,0.2):.3f}')\n",
    "print(f'The second solution with lampda = 0.75 is: {ssk(1,0.75,1/3,0.1,0.25,0.2):.3f}')"
   ]
  },
  {
   "cell_type": "markdown",
   "metadata": {},
   "source": [
    "As expected we get a higher level of capital the higher the share of workers relative to the population. "
   ]
  },
  {
   "cell_type": "markdown",
   "metadata": {},
   "source": [
    "# Visualization of the two solutions"
   ]
  },
  {
   "cell_type": "markdown",
   "metadata": {},
   "source": [
    "We want to show the transition to steady state in a phase diagram with the two different share of workers. We do this by simulating two different transations from time 0 to steady state."
   ]
  },
  {
   "cell_type": "code",
   "execution_count": 113,
   "metadata": {},
   "outputs": [
    {
     "data": {
      "image/png": "[encoded data removed]",
      "text/plain": [
       "<Figure size 936x288 with 2 Axes>"
      ]
     },
     "metadata": {},
     "output_type": "display_data"
    }
   ],
   "source": [
    "#Transformation equation of capital\n",
    "def k_trans_one(alpha,delta,lam_one,B,s,n,k_t): \n",
    "    return 1/(1+n)*(s*B*lam_one**(1-alpha)*k_t**alpha+(1-delta)*k_t)\n",
    "\n",
    "def k_trans_two(alpha,delta,lam_two,B,s,n,k_t): \n",
    "    return 1/(1+n)*(s*B*lam_two**(1-alpha)*k_t**alpha+(1-delta)*k_t)\n",
    "\n",
    "#Steady state for k\n",
    "def ss_k_one(alpha,delta,lam_one,B,s,n):\n",
    "    return (B*lam_one**(1-alpha)*s/(delta+n))**(1/(1-alpha))\n",
    "def ss_k_two(alpha,delta,lam_two,B,s,n):\n",
    "    return (B*lam_two**(1-alpha)*s/(delta+n))**(1/(1-alpha))\n",
    "\n",
    "# Setting the parameters\n",
    "alpha=1/3\n",
    "delta=0.1\n",
    "lam_one=0.6\n",
    "lam_two=0.75\n",
    "B=1\n",
    "n=0.25\n",
    "s=0.2\n",
    "k0 = 0.01\n",
    "\n",
    "#Time periods\n",
    "T = 20\n",
    "index = range(T)\n",
    "\n",
    "#Graph 1\n",
    "k_level_one = np.zeros(len(index))\n",
    "k_level_one[0] = k0\n",
    "\n",
    "for t in index[1:]:\n",
    "    k_level_one[t] = k_trans_one(alpha,delta,lam_one,B,s,n,k_level_one[t-1])\n",
    "    \n",
    "#Graph 2\n",
    "k_level_two = np.zeros(len(index))\n",
    "k_level_two[0] = k0\n",
    "\n",
    "for t in index[1:]:\n",
    "    k_level_two[t] = k_trans_two(alpha,delta,lam_two,B,s,n,k_level_two[t-1])\n",
    "    \n",
    "# Number of values in the grid\n",
    "N = 1000\n",
    "\n",
    "# Capital in period t\n",
    "_k_t_one = np.linspace(0,0.4,N)\n",
    "_k_t_two = np.linspace(0,0.4,N)\n",
    "\n",
    "# Capital in period t+1\n",
    "_k_trans_one = np.zeros(N)\n",
    "_k_trans_two = np.zeros(N)\n",
    "\n",
    "for i,k in enumerate(_k_t_one):\n",
    "    _k_trans_one[i] = k_trans_one(alpha,delta,lam_one,B,s,n,k)\n",
    "\n",
    "for i,k in enumerate(_k_t_two):\n",
    "    _k_trans_two[i] = k_trans_two(alpha,delta,lam_two,B,s,n,k)\n",
    "    \n",
    "fig, axes = plt.subplots(1, 2, sharex='col', figsize=(13, 4))\n",
    "ax1 = axes[0]\n",
    "ax2 = axes[1]\n",
    "\n",
    "#Phase diagram 1:\n",
    "\n",
    "ax1.plot(_k_t_one,_k_trans_one, color='0.3',label=r'$k_{t+1} = f(k_t)$')\n",
    "ax1.plot(_k_t_one,_k_t_one,color='0.3',linestyle=':', label=r'$45^{\\circ}$ degree line')\n",
    "\n",
    "ax1.set_ylabel('$k_{t+1}$')\n",
    "ax1.set_xlabel('$k_t$')\n",
    "ax1.set_xlim(0,0.4)\n",
    "ax1.set_ylim(0,0.4)\n",
    "ax1.legend(loc=4,frameon=True)\n",
    "\n",
    "ax1.set_title('Phase diagram with lambda=0.6', fontsize=20)\n",
    "\n",
    "#Phase diagram 2:\n",
    "\n",
    "ax2.plot(_k_t_two,_k_trans_two, color='0.3',label=r'$k_{t+1} = f(k_t)$')\n",
    "ax2.plot(_k_t_two,_k_t_two,color='0.3',linestyle=':', label=r'$45^{\\circ}$ degree line')\n",
    "\n",
    "ax2.set_ylabel('$k_{t+1}$')\n",
    "ax2.set_xlabel('$k_t$')\n",
    "ax2.set_xlim(0,0.4)\n",
    "ax2.set_ylim(0,0.4)\n",
    "ax2.legend(loc=4,frameon=True)\n",
    "\n",
    "ax2.set_title('Phase diagram with lambda=0.75', fontsize=20)\n",
    "\n",
    "plt.show()"
   ]
  },
  {
   "cell_type": "markdown",
   "metadata": {},
   "source": [
    "# Conclusion"
   ]
  },
  {
   "cell_type": "markdown",
   "metadata": {},
   "source": [
    "The conclusion of this project is that a higher share of workers will result in a higher level of capital in steady state. This higher level of capital will result in increased production. Thus if an economy seeks to have a higher level of production, it could be achieved by increasing the share of workers through lower taxes or higher wages. "
   ]
  }
 ],
 "metadata": {
  "kernelspec": {
   "display_name": "Python 3",
   "language": "python",
   "name": "python3"
  },
  "language_info": {
   "codemirror_mode": {
    "name": "ipython",
    "version": 3
   },
   "file_extension": ".py",
   "mimetype": "text/x-python",
   "name": "python",
   "nbconvert_exporter": "python",
   "pygments_lexer": "ipython3",
   "version": "3.7.4"
  }
 },
 "nbformat": 4,
 "nbformat_minor": 4
}
